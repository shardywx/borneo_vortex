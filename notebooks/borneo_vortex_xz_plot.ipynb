{
 "cells": [
  {
   "cell_type": "code",
   "execution_count": 1,
   "id": "9c6a326a",
   "metadata": {},
   "outputs": [],
   "source": [
    "import numpy as np\n",
    "import xarray as xr\n",
    "import pandas as pd\n",
    "\n",
    "import cartopy.crs as ccrs\n",
    "import matplotlib.pyplot as plt\n",
    "\n",
    "import matplotlib"
   ]
  },
  {
   "cell_type": "code",
   "execution_count": 2,
   "id": "362b4d0e",
   "metadata": {},
   "outputs": [],
   "source": [
    "lon_start = [104.0, 104.0, 104.0, 104.0, 104.0, 104.0, 104.0, 104.0, 104.0, 104.0]\n",
    "lon_end = [115.0, 115.0, 115.0, 115.0, 115.0, 115.0, 115.0, 115.0, 115.0, 115.0]\n",
    "lat_start = [5.5, 5.5, 5.5, 5.5, 5.5, 5.5, 5.5, 5.5, 5.5, 5.5]\n",
    "lat_end = [7.0, 7.0, 7.0, 7.0, 7.0, 7.0, 7.0, 7.0, 7.0, 7.0]\n",
    "\n",
    "# lon_start = [110.0, 108.0, 101.0, 97.0, 94.0, 91.0, 85.0]\n",
    "# lon_end = [126.0, 124.0, 117.0, 113.0, 110.0, 107.0, 103.0]\n",
    "# lat_start = [5.0, 5.0, 5.0, 5.0, 5.0, 5.5, 5.5]\n",
    "# lat_end = [6.5, 6.5, 6.5, 6.5, 6.5, 7.0, 7.0]"
   ]
  },
  {
   "cell_type": "code",
   "execution_count": 3,
   "id": "ddc57db4",
   "metadata": {},
   "outputs": [],
   "source": [
    "it = 0\n",
    "\n",
    "vvel_6km = []\n",
    "heating_rate_6km = []\n",
    "r_6km = []\n",
    "\n",
    "uwind_upper = []\n",
    "uwind_mid = []\n",
    "uwind_lower = []\n",
    "\n",
    "for Tp in [12,24,36,48,60,72,84,96,108,120]:\n",
    "    \n",
    "    time = int(Tp)-12\n",
    "    gl_pe='/nobackup/earshar/borneo/case_20181021T1200Z_N768/nc/umglaa_pe{0:03d}.nc'.format(time)\n",
    "    gl_pc='/nobackup/earshar/borneo/case_20181021T1200Z_N768/nc/umglaa_pc{0:03d}.nc'.format(time)\n",
    "    gl_pb='/nobackup/earshar/borneo/case_20181021T1200Z_N768/nc/umglaa_pb{0:03d}.nc'.format(time)\n",
    "    \n",
    "    input_data_pe = xr.open_dataset(gl_pe) # vertical velocity \n",
    "    input_data_pc = xr.open_dataset(gl_pc, drop_variables=['unspecified_5','unspecified_6',   # heating rate \n",
    "                                                           'unspecified_9','unspecified_10'])\n",
    "    input_data_pb = xr.open_dataset(gl_pb)\n",
    "        \n",
    "    var = input_data_pc['unspecified'].squeeze('t').sel(hybrid_ht=6000, \n",
    "                                                        method='nearest').sel(latitude=slice(lat_start[it], \n",
    "                                                        lat_end[it])).sel(longitude=slice(lon_start[it], \n",
    "                                                        lon_end[it]))\n",
    "    \n",
    "    if Tp == 12:\n",
    "        vvel = input_data_pe.dz_dt[1,:,:,:].sel(hybrid_ht_1=6000, \n",
    "                                                method='nearest').sel(latitude=slice(lat_start[0], \n",
    "                                                lat_end[0], )).sel(longitude_1=slice(lon_start[0], lon_end[0]))\n",
    "        \n",
    "        r = input_data_pb.q[1,:,:,:].sel(hybrid_ht=6000, \n",
    "                                        method='nearest').sel(latitude=slice(lat_start[0], \n",
    "                                        lat_end[0], )).sel(longitude=slice(lon_start[0], lon_end[0]))\n",
    "\n",
    "        uwind_u = input_data_pe.u[1,:,:,:].sel(hybrid_ht=6000, \n",
    "                                               method='nearest').sel(latitude=slice(lat_start[0], \n",
    "                                               lat_end[0])).sel(longitude=slice(lon_start[0], lon_end[0]))\n",
    "        \n",
    "        uwind_m = input_data_pe.u[1,:,:,:].sel(hybrid_ht=slice(4500,5000)).sel(latitude=slice(lat_start[0], \n",
    "                                               lat_end[0])).sel(longitude=slice(lon_start[0], lon_end[0]))\n",
    "\n",
    "        uwind_l = input_data_pe.u[1,:,:,:].sel(hybrid_ht=1400, \n",
    "                                               method='nearest').sel(latitude=slice(lat_start[0], \n",
    "                                               lat_end[0])).sel(longitude=slice(lon_start[0], lon_end[0]))\n",
    "    else:\n",
    "        vvel = input_data_pe.dz_dt.squeeze('t').sel(hybrid_ht=6000, \n",
    "                                                    method='nearest').sel(latitude=slice(lat_start[it], \n",
    "                                                    lat_end[it])).sel(longitude=slice(lon_start[it], lon_end[it]))\n",
    "        \n",
    "        r = input_data_pb.q.squeeze('t').sel(hybrid_ht=6000, \n",
    "                                            method='nearest').sel(latitude=slice(lat_start[it], \n",
    "                                            lat_end[it])).sel(longitude=slice(lon_start[it], lon_end[it]))\n",
    "        \n",
    "        uwind_u = input_data_pe.u.squeeze('t').sel(hybrid_ht_1=6000, \n",
    "                                                   method='nearest').sel(latitude=slice(lat_start[it], \n",
    "                                                   lat_end[it])).sel(longitude_1=slice(lon_start[it], lon_end[it]))\n",
    "\n",
    "        uwind_m = input_data_pe.u.squeeze('t').sel(hybrid_ht_1=slice(4500,5000)).sel(latitude=slice(lat_start[it], \n",
    "                                                   lat_end[it])).sel(longitude_1=slice(lon_start[it], lon_end[it]))\n",
    "\n",
    "        uwind_l = input_data_pe.u.squeeze('t').sel(hybrid_ht_1=1400, \n",
    "                                                   method='nearest').sel(latitude=slice(lat_start[it], \n",
    "                                                   lat_end[it])).sel(longitude_1=slice(lon_start[it], lon_end[it]))\n",
    "        \n",
    "    heating_rate = 0\n",
    "    vars_list = ['unspecified', 'unspecified_1', 'unspecified_2', 'unspecified_3',\n",
    "                 'unspecified_4', 'unspecified_7','unspecified_8']\n",
    "    for var in vars_list:\n",
    "        heating_rate = heating_rate + input_data_pc[var].squeeze('t').sel(hybrid_ht=6000, \n",
    "                                                        method='nearest').sel(latitude=slice(lat_start[it], \n",
    "                                                        lat_end[it])).sel(longitude=slice(lon_start[it], \n",
    "                                                        lon_end[it]))\n",
    "    heating_rate = heating_rate / 3600. # uncomment to convert to K/s (from K/h)\n",
    "    \n",
    "    vvel_1d = vvel.data.reshape(vvel.size)\n",
    "    heating_rate_1d = heating_rate.data.reshape(heating_rate.size)\n",
    "    r_1d = r.data.reshape(r.size)\n",
    "    \n",
    "    vvel_6km.append(vvel_1d)\n",
    "    heating_rate_6km.append(heating_rate_1d)\n",
    "    r_6km.append(r_1d)\n",
    "    \n",
    "    uwind_upper_1d = uwind_u.data.reshape(uwind_u.size)\n",
    "    uwind_upper.append(uwind_upper_1d)\n",
    "    \n",
    "    uwind_mid_1d = uwind_m.data.reshape(uwind_m.size)\n",
    "    uwind_mid.append(uwind_mid_1d)   \n",
    "    \n",
    "    uwind_lower_1d = uwind_l.data.reshape(uwind_l.size)\n",
    "    uwind_lower.append(uwind_lower_1d)\n",
    "    \n",
    "    it += 1"
   ]
  },
  {
   "cell_type": "code",
   "execution_count": 4,
   "id": "247306f9",
   "metadata": {},
   "outputs": [],
   "source": [
    "vvel_all = [val for vvel_6km in vvel_6km for val in vvel_6km]\n",
    "heating_rate_all = [val for heating_rate_6km in heating_rate_6km for val in heating_rate_6km]\n",
    "r_all = [val for r_6km in r_6km for val in r_6km]\n",
    "\n",
    "uwind_upper_all = [val for uwind_upper in uwind_upper for val in uwind_upper]\n",
    "uwind_mid_all = [val for uwind_mid in uwind_mid for val in uwind_mid]\n",
    "uwind_lower_all = [val for uwind_lower in uwind_lower for val in uwind_lower]"
   ]
  },
  {
   "cell_type": "code",
   "execution_count": 5,
   "id": "bfe661fd",
   "metadata": {},
   "outputs": [],
   "source": [
    "# calculate mean zonal wind over specified region\n",
    "uwind_upper_mean = sum(uwind_upper_all) / len(uwind_upper_all)\n",
    "uwind_mid_mean = sum(uwind_mid_all) / len(uwind_mid_all)\n",
    "uwind_lower_mean = sum(uwind_lower_all) / len(uwind_lower_all)"
   ]
  },
  {
   "cell_type": "code",
   "execution_count": 7,
   "id": "79f0f8e3",
   "metadata": {},
   "outputs": [],
   "source": [
    "# uwind_upper_mean, uwind_mid_mean, uwind_lower_mean"
   ]
  },
  {
   "cell_type": "code",
   "execution_count": 13,
   "id": "0987a812",
   "metadata": {},
   "outputs": [],
   "source": [
    "# calculate rescaled vertical velocity \n",
    "th_ref = 300.0\n",
    "g = 9.81\n",
    "latitude = 6.25 * (np.pi / 180.)\n",
    "f0 = 1.4584E-4 * np.sin(latitude)\n",
    "\n",
    "vvel_scale = (np.array(vvel_all) * np.array(r_all) * th_ref * f0) / g"
   ]
  },
  {
   "cell_type": "code",
   "execution_count": 14,
   "id": "ffea3fc1",
   "metadata": {},
   "outputs": [],
   "source": [
    "vvel_scale = vvel_scale * 100000."
   ]
  },
  {
   "cell_type": "code",
   "execution_count": 15,
   "id": "4fc4d53e",
   "metadata": {},
   "outputs": [],
   "source": [
    "vvel_plot = vvel_scale"
   ]
  },
  {
   "cell_type": "code",
   "execution_count": 16,
   "id": "6eb185ee",
   "metadata": {},
   "outputs": [],
   "source": [
    "# produce scatter plot using data from all times \n",
    "fig, ax = plt.subplots(figsize=(12, 9))\n",
    "ax.scatter(vvel_plot, heating_rate_all, marker=\".\")\n",
    "# ax.set_xlabel(r'Rescaled vertical velocity $\\mathregular{(m\\,s^{-1})}$',fontsize='large')\n",
    "ax.set_xlabel(r'Rescaled vertical velocity $\\mathregular{(K\\,s^{-1})}$',fontsize='large')\n",
    "ax.set_ylabel(r'Heating rate $\\mathregular{(K\\,s^{-1})}$',fontsize='large')\n",
    "gradient, intercept = np.polyfit(vvel_plot, heating_rate_all, 1)\n",
    "plt.plot(vvel_plot, (np.array(vvel_plot)*gradient + intercept), color='black', linestyle='--', linewidth=2)\n",
    "plt.grid(color='grey', linestyle='--', linewidth=1)\n",
    "plt.savefig(f'scatter_plot.png')\n",
    "plt.show()\n",
    "plt.close()"
   ]
  },
  {
   "cell_type": "code",
   "execution_count": 17,
   "id": "ca610f1d",
   "metadata": {},
   "outputs": [
    {
     "data": {
      "text/plain": [
       "0.0036795548988027443"
      ]
     },
     "execution_count": 17,
     "metadata": {},
     "output_type": "execute_result"
    }
   ],
   "source": [
    "gradient"
   ]
  },
  {
   "cell_type": "code",
   "execution_count": null,
   "id": "2a7bbcb9",
   "metadata": {},
   "outputs": [],
   "source": []
  }
 ],
 "metadata": {
  "kernelspec": {
   "display_name": "Python 3 (ipykernel)",
   "language": "python",
   "name": "python3"
  },
  "language_info": {
   "codemirror_mode": {
    "name": "ipython",
    "version": 3
   },
   "file_extension": ".py",
   "mimetype": "text/x-python",
   "name": "python",
   "nbconvert_exporter": "python",
   "pygments_lexer": "ipython3",
   "version": "3.7.6"
  }
 },
 "nbformat": 4,
 "nbformat_minor": 5
}
