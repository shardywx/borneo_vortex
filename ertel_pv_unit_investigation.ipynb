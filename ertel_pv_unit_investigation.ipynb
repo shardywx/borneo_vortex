{
 "cells": [
  {
   "cell_type": "code",
   "execution_count": 14,
   "id": "9c6a326a",
   "metadata": {},
   "outputs": [],
   "source": [
    "import numpy as np\n",
    "import xarray as xr\n",
    "import pandas as pd\n",
    "\n",
    "import cartopy.crs as ccrs\n",
    "import matplotlib.pyplot as plt\n",
    "import metpy.calc as mpcalc\n",
    "from metpy.units import units \n",
    "from metpy.interpolate import cross_section\n",
    "from scipy import signal\n",
    "from diagnosticSGfunctions import gkern as create_gaussian_kernel\n",
    "\n",
    "import matplotlib\n",
    "%matplotlib inline"
   ]
  },
  {
   "cell_type": "code",
   "execution_count": 15,
   "id": "362b4d0e",
   "metadata": {},
   "outputs": [],
   "source": [
    "# lon_start = 90.0\n",
    "# lon_end = 125.0\n",
    "# lat_start = 0.0\n",
    "# lat_end = 15.0\n",
    "\n",
    "lon_start = 104.0\n",
    "lon_end = 115.0\n",
    "lat_start = 5.5\n",
    "lat_end = 7.0"
   ]
  },
  {
   "cell_type": "code",
   "execution_count": 16,
   "id": "ddc57db4",
   "metadata": {},
   "outputs": [],
   "source": [
    "time = int(48)-12\n",
    "gl_pe='/nobackup/earshar/borneo/case_20181021T1200Z_N768_v2/umglaa_pe{0:03d}.nc'.format(time)\n",
    "gl_pc='/nobackup/earshar/borneo/case_20181021T1200Z_N768_v2/umglaa_pc{0:03d}.nc'.format(time)\n",
    "gl_pb='/nobackup/earshar/borneo/case_20181021T1200Z_N768_v2/umglaa_pb{0:03d}.nc'.format(time)\n",
    "\n",
    "input_data_pe = xr.open_dataset(gl_pe).metpy.assign_crs(grid_mapping_name='latitude_longitude', \n",
    "                                                        earth_radius=6371229.0)\n",
    "input_data_pc = xr.open_dataset(gl_pc, drop_variables=['unspecified_5','unspecified_6',   # heating rate \n",
    "                                                       'unspecified_9','unspecified_10'])\n",
    "input_data_pc = input_data_pc.metpy.assign_crs(grid_mapping_name='latitude_longitude', \n",
    "                                               earth_radius=6371229.0)\n",
    "input_data_pb = xr.open_dataset(gl_pb).metpy.assign_crs(grid_mapping_name='latitude_longitude', \n",
    "                                                        earth_radius=6371229.0)"
   ]
  },
  {
   "cell_type": "code",
   "execution_count": 17,
   "id": "eebc4bf5",
   "metadata": {},
   "outputs": [],
   "source": [
    "gdata_pe=input_data_pe.sel(longitude=slice(lon_start, lon_end), latitude=slice(lat_start, lat_end),\n",
    "                                 longitude_1=slice(lon_start, lon_end), latitude_1=slice(lat_start, lat_end) )\n",
    "gdata_pb=input_data_pb.sel(longitude=slice(lon_start, lon_end), latitude=slice(lat_start, lat_end) )\n",
    "gdata_pc=input_data_pc.sel(longitude=slice(lon_start, lon_end), latitude=slice(lat_start, lat_end) )"
   ]
  },
  {
   "cell_type": "code",
   "execution_count": 18,
   "id": "f2348689",
   "metadata": {},
   "outputs": [],
   "source": [
    "heating_rate = 0\n",
    "vars_list = ['unspecified', 'unspecified_1', 'unspecified_2', 'unspecified_3',\n",
    "             'unspecified_4', 'unspecified_7','unspecified_8']\n",
    "for var in vars_list:\n",
    "    heating_rate = heating_rate + gdata_pc[var]"
   ]
  },
  {
   "cell_type": "code",
   "execution_count": 19,
   "id": "9a0d02a7",
   "metadata": {},
   "outputs": [],
   "source": [
    "ht_coords = gdata_pe.u['hybrid_ht_1'].data.astype('int32')\n",
    "\n",
    "u_gl = gdata_pe.u.interp(longitude_1=gdata_pe.v[\"longitude\"],\n",
    "                         hybrid_ht_1=ht_coords,\n",
    "                         method=\"linear\").assign_coords(height_levels=(\"hybrid_ht_1\",\n",
    "                        ht_coords)).swap_dims({\"hybrid_ht_1\":\n",
    "                        \"height_levels\"})\n",
    "v_gl = gdata_pe.v.interp(latitude_1=gdata_pe.u[\"latitude\"],\n",
    "                         hybrid_ht_1=ht_coords,\n",
    "                         method=\"linear\").assign_coords(height_levels=(\"hybrid_ht_1\",\n",
    "                        ht_coords)).swap_dims({\"hybrid_ht_1\":\n",
    "                                               \"height_levels\"})\n",
    "pv_gl = gdata_pe.field83.interp(hybrid_ht=ht_coords,\n",
    "                                method=\"linear\").assign_coords(height_levels=(\"hybrid_ht\",\n",
    "                                ht_coords)).swap_dims({\"hybrid_ht\":\n",
    "                                                       \"height_levels\"})\n",
    "w_gl  = gdata_pe.dz_dt.interp(hybrid_ht=ht_coords,\n",
    "                              method=\"linear\").assign_coords(height_levels=(\"hybrid_ht\",\n",
    "                            ht_coords)).swap_dims({\"hybrid_ht\":\n",
    "                                                   \"height_levels\"})\n",
    "\n",
    "q_gl  = gdata_pb.q.interp(hybrid_ht=ht_coords,\n",
    "                          method=\"linear\").assign_coords(height_levels=(\"hybrid_ht\",\n",
    "                            ht_coords)).swap_dims({\"hybrid_ht\":\n",
    "                                                   \"height_levels\"})\n",
    "th_gl = gdata_pb.theta.interp(hybrid_ht=ht_coords,\n",
    "                              method=\"linear\").assign_coords(height_levels=(\"hybrid_ht\",\n",
    "                            ht_coords)).swap_dims({\"hybrid_ht\":\n",
    "                                                   \"height_levels\"})\n",
    "rho_gl = gdata_pb.field27.interp(hybrid_ht_1=ht_coords,\n",
    "                                 method=\"linear\").assign_coords(height_levels=(\"hybrid_ht_1\",\n",
    "                                ht_coords)).swap_dims({\"hybrid_ht_1\":\"height_levels\"})\n",
    "heating_rate = heating_rate.interp(hybrid_ht=ht_coords,\n",
    "                                   method=\"linear\").assign_coords(height_levels=(\"hybrid_ht\",\n",
    "                                ht_coords)).swap_dims({\"hybrid_ht\":\"height_levels\"})\n",
    "exner_func = gdata_pb.field7.interp(hybrid_ht_1=ht_coords,\n",
    "                                 method=\"linear\").assign_coords(height_levels=(\"hybrid_ht_1\",\n",
    "                                ht_coords)).swap_dims({\"hybrid_ht_1\":\"height_levels\"})"
   ]
  },
  {
   "cell_type": "code",
   "execution_count": 20,
   "id": "56afb627",
   "metadata": {},
   "outputs": [],
   "source": [
    "u_gl = u_gl.squeeze('t').sel(latitude=slice(lat_start,lat_end)).sel(longitude=slice(lon_start,lon_end))\n",
    "v_gl = v_gl.squeeze('t').sel(latitude=slice(lat_start,lat_end)).sel(longitude=slice(lon_start,lon_end))\n",
    "w_gl = w_gl.squeeze('t').sel(latitude=slice(lat_start,lat_end)).sel(longitude=slice(lon_start,lon_end))\n",
    "\n",
    "th_gl = th_gl.squeeze('t').sel(latitude=slice(lat_start,lat_end)).sel(longitude=slice(lon_start,lon_end))\n",
    "q_gl = q_gl.squeeze('t').sel(latitude=slice(lat_start,lat_end)).sel(longitude=slice(lon_start,lon_end))\n",
    "rho_gl = rho_gl.squeeze('t').sel(latitude=slice(lat_start,lat_end)).sel(longitude=slice(lon_start,lon_end))\n",
    "\n",
    "vort_gl = mpcalc.vorticity(u_gl, v_gl, dx=None, dy=None)\n",
    "abs_vort_gl = mpcalc.absolute_vorticity(u_gl, v_gl, dx=None, dy=None)\n",
    "\n",
    "vort_gl = vort_gl.sel(latitude=slice(lat_start,lat_end)).sel(longitude=slice(lon_start,lon_end))\n",
    "abs_vort_gl = abs_vort_gl.sel(latitude=slice(lat_start,lat_end)).sel(longitude=slice(lon_start,lon_end))\n",
    "heating_rate = heating_rate.squeeze('t').sel(latitude=slice(lat_start,lat_end)).sel(longitude=slice(lon_start,lon_end)) / 3600.\n",
    "exner_func = exner_func.squeeze('t').sel(latitude=slice(lat_start,lat_end)).sel(longitude=slice(lon_start,lon_end))"
   ]
  },
  {
   "attachments": {},
   "cell_type": "markdown",
   "id": "7fd32168",
   "metadata": {},
   "source": [
    "## Calculate Ertel PV"
   ]
  },
  {
   "cell_type": "code",
   "execution_count": 21,
   "id": "d284b18c",
   "metadata": {},
   "outputs": [],
   "source": [
    "# latitude = th_gl.latitude * (np.pi / 180.)\n",
    "# f0 = 1.4584E-4 * np.sin(latitude)\n",
    "\n",
    "# d_heating_rate_dz = mpcalc.first_derivative(heating_rate, axis=0)\n",
    "# d_theta_dz = mpcalc.first_derivative(th_gl, axis=0)\n",
    "\n",
    "# ertel_pv = (1 / rho_gl) * f0 * d_theta_dz"
   ]
  },
  {
   "attachments": {},
   "cell_type": "markdown",
   "id": "bd7b0da2",
   "metadata": {},
   "source": [
    "## START FROM HERE\n",
    "\n",
    "- Read in Ertel PV from the global MetUM\n",
    "- Compare with the value calculated above\n",
    "- Should match the values we already see in Figure 13 (b) and (d)\n",
    "- Input this into our wave phase speed calculation "
   ]
  },
  {
   "cell_type": "code",
   "execution_count": 22,
   "id": "17cae536",
   "metadata": {},
   "outputs": [],
   "source": [
    "pv_gl = pv_gl.squeeze('t').sel(latitude=slice(lat_start,lat_end)).sel(longitude=slice(lon_start,lon_end)) * 1000000."
   ]
  },
  {
   "cell_type": "code",
   "execution_count": 23,
   "id": "d0b8298e",
   "metadata": {},
   "outputs": [
    {
     "data": {
      "text/plain": [
       "<matplotlib.collections.QuadMesh at 0x7f84e04cf6d0>"
      ]
     },
     "execution_count": 23,
     "metadata": {},
     "output_type": "execute_result"
    },
    {
     "data": {
      "image/png": "[encoded data removed]",
      "text/plain": [
       "<Figure size 648x432 with 2 Axes>"
      ]
     },
     "metadata": {
      "needs_background": "light"
     },
     "output_type": "display_data"
    }
   ],
   "source": [
    "pv_gl.sel(height_levels=6000,method='nearest').plot(figsize=(9,6))"
   ]
  },
  {
   "attachments": {},
   "cell_type": "markdown",
   "id": "49ac08bf",
   "metadata": {},
   "source": [
    "## Select height levels and plot Ertel PV"
   ]
  },
  {
   "cell_type": "code",
   "execution_count": 36,
   "id": "47cc75dd",
   "metadata": {},
   "outputs": [
    {
     "data": {
      "text/plain": [
       "<matplotlib.collections.QuadMesh at 0x7f58f51ff790>"
      ]
     },
     "execution_count": 36,
     "metadata": {},
     "output_type": "execute_result"
    },
    {
     "data": {
      "image/png": "[encoded data removed]",
      "text/plain": [
       "<Figure size 648x432 with 2 Axes>"
      ]
     },
     "metadata": {
      "needs_background": "light"
     },
     "output_type": "display_data"
    }
   ],
   "source": [
    "ertel_pv = ertel_pv.sel(height_levels=slice(0,15000))\n",
    "ertel_pv_pvu = ertel_pv * 1000000\n",
    "ertel_pv_pvu.sel(height_levels=6000, method='nearest').plot(figsize=(9,6))"
   ]
  },
  {
   "attachments": {},
   "cell_type": "markdown",
   "id": "3ceab9ae",
   "metadata": {},
   "source": [
    "## Upper wave phase speed calculation"
   ]
  },
  {
   "attachments": {},
   "cell_type": "markdown",
   "id": "cd4f4230",
   "metadata": {},
   "source": [
    "### Calculate first term in Eq. 6 (absolute vorticity)"
   ]
  },
  {
   "cell_type": "code",
   "execution_count": 31,
   "id": "ca610f1d",
   "metadata": {},
   "outputs": [],
   "source": [
    "rho_upper = rho_gl.sel(height_levels=slice(8000,10000)).mean(dim=['height_levels'])\n",
    "rho_lower = rho_gl.sel(height_levels=slice(2000,4000)).mean(dim=['height_levels'])\n",
    "rho_ave = ( (rho_upper + rho_lower) / 2).mean() \n",
    "\n",
    "q_ave = q_gl.sel(height_levels=6000, method=\"nearest\").mean()\n",
    "abs_vort = abs_vort_gl.sel(height_levels=6000, method=\"nearest\").mean()\n",
    "\n",
    "th_upper = th_gl.sel(height_levels=slice(8000,10000)).mean(dim=['height_levels'])\n",
    "th_lower = th_gl.sel(height_levels=slice(2000,4000)).mean(dim=['height_levels'])\n",
    "d_theta  = (th_upper - th_lower).mean()\n",
    "th_ref   = 300.0\n",
    "dz       = 6000.0\n",
    "\n",
    "# term_1 = (9.81 * d_theta / (rho_ave * q_ave * th_ref * dz) )\n",
    "# term_1 = (abs_vort * d_theta / (rho_ave * dz) ) # Current value = 3.52 x 10-7\n",
    "term_1 = (f0.mean() * d_theta / (rho_ave * dz) ) # Updated value = 1.10 x 10-7"
   ]
  },
  {
   "attachments": {},
   "cell_type": "markdown",
   "id": "16669114",
   "metadata": {},
   "source": [
    "### Calculate second term in Eq. 6 (moist stability)"
   ]
  },
  {
   "cell_type": "code",
   "execution_count": 33,
   "id": "6997920a",
   "metadata": {},
   "outputs": [],
   "source": [
    "# calculate moist stability\n",
    "th_dz = mpcalc.first_derivative(th_gl, axis=0)\n",
    "th_dz = th_dz * (9.81 / th_ref)\n",
    "moist_stability = q_gl * th_dz\n",
    "\n",
    "moist_stability_upper = moist_stability.sel(height_levels=slice(8000,\n",
    "                            10000)).mean(dim=['height_levels']).mean()\n",
    "moist_stability_lower = moist_stability.sel(height_levels=slice(2000,\n",
    "                            4000)).mean(dim=['height_levels']).mean()\n",
    "moist_stability_interface = moist_stability.sel(height_levels=6000, method='nearest').mean()\n",
    "\n",
    "term_2 = (moist_stability_upper - moist_stability_lower) / moist_stability_interface # Current value = -2.49\n",
    "\n",
    "moist_stratification_factor = term_1 * term_2 # Current value = -8.77 x 10-7 (seems much smaller than expected)"
   ]
  },
  {
   "attachments": {},
   "cell_type": "markdown",
   "id": "09a1fcdc",
   "metadata": {},
   "source": [
    "### Calculate third term in Eq. 6 (diabatic heating)"
   ]
  },
  {
   "cell_type": "code",
   "execution_count": 34,
   "id": "4551a4e3",
   "metadata": {},
   "outputs": [],
   "source": [
    "exner_func_6km = exner_func.sel(height_levels=6000, method=\"nearest\").mean()\n",
    "heating_rate_6km = (heating_rate.sel(height_levels=6000, method=\"nearest\"))\n",
    "\n",
    "# new method to calculate amplitude (smooth field, and calculate standard deviation)\n",
    "kernel_2d = create_gaussian_kernel(3, 1.0)\n",
    "heating_rate_smoothed = xr.DataArray(signal.convolve2d(heating_rate_6km, kernel_2d, boundary='symm', mode='same'))\n",
    "heating_rate_mean = heating_rate_smoothed.mean()\n",
    "heating_rate_std = (heating_rate_smoothed - heating_rate_mean).std()\n",
    "heating_rate_amplitude = (heating_rate_6km.max() - heating_rate_6km.min()) / 2\n",
    "\n",
    "# ertel PV (new)\n",
    "ertel_pv_6km = ertel_pv.sel(height_levels=6000, method='nearest')\n",
    "ertel_pv_smoothed = xr.DataArray(signal.convolve2d(ertel_pv_6km, kernel_2d, boundary='symm', mode='same'))\n",
    "ertel_pv_mean = ertel_pv_smoothed.mean()\n",
    "ertel_pv_std = (ertel_pv_smoothed - ertel_pv_mean).std()\n",
    "ertel_pv_amplitude = (ertel_pv_6km.max() - ertel_pv_6km.min()) / 2\n",
    "\n",
    "pv_wave_length = 8.0 * 111000 \n",
    "pv_wave_number = (2 * np.pi) / pv_wave_length\n",
    "\n",
    "term_3a = 1 / pv_wave_number\n",
    "term_3b = heating_rate_std / d_theta \n",
    "\n",
    "term_3c = 1 / ertel_pv_std\n",
    "\n",
    "term_3 = (term_3a * term_3b * term_3c).mean()\n",
    "\n",
    "upper_wave_phase_speed = moist_stratification_factor * term_3"
   ]
  },
  {
   "cell_type": "code",
   "execution_count": 43,
   "id": "fe75d4dc",
   "metadata": {},
   "outputs": [
    {
     "data": {
      "text/html": [
       "<div><svg style=\"position: absolute; width: 0; height: 0; overflow: hidden\">\n",
       "<defs>\n",
       "<symbol id=\"icon-database\" viewBox=\"0 0 32 32\">\n",
       "<title>Show/Hide data repr</title>\n",
       "<path d=\"M16 0c-8.837 0-16 2.239-16 5v4c0 2.761 7.163 5 16 5s16-2.239 16-5v-4c0-2.761-7.163-5-16-5z\"></path>\n",
       "<path d=\"M16 17c-8.837 0-16-2.239-16-5v6c0 2.761 7.163 5 16 5s16-2.239 16-5v-6c0 2.761-7.163 5-16 5z\"></path>\n",
       "<path d=\"M16 26c-8.837 0-16-2.239-16-5v6c0 2.761 7.163 5 16 5s16-2.239 16-5v-6c0 2.761-7.163 5-16 5z\"></path>\n",
       "</symbol>\n",
       "<symbol id=\"icon-file-text2\" viewBox=\"0 0 32 32\">\n",
       "<title>Show/Hide attributes</title>\n",
       "<path d=\"M28.681 7.159c-0.694-0.947-1.662-2.053-2.724-3.116s-2.169-2.030-3.116-2.724c-1.612-1.182-2.393-1.319-2.841-1.319h-15.5c-1.378 0-2.5 1.121-2.5 2.5v27c0 1.378 1.122 2.5 2.5 2.5h23c1.378 0 2.5-1.122 2.5-2.5v-19.5c0-0.448-0.137-1.23-1.319-2.841zM24.543 5.457c0.959 0.959 1.712 1.825 2.268 2.543h-4.811v-4.811c0.718 0.556 1.584 1.309 2.543 2.268zM28 29.5c0 0.271-0.229 0.5-0.5 0.5h-23c-0.271 0-0.5-0.229-0.5-0.5v-27c0-0.271 0.229-0.5 0.5-0.5 0 0 15.499-0 15.5 0v7c0 0.552 0.448 1 1 1h7v19.5z\"></path>\n",
       "<path d=\"M23 26h-14c-0.552 0-1-0.448-1-1s0.448-1 1-1h14c0.552 0 1 0.448 1 1s-0.448 1-1 1z\"></path>\n",
       "<path d=\"M23 22h-14c-0.552 0-1-0.448-1-1s0.448-1 1-1h14c0.552 0 1 0.448 1 1s-0.448 1-1 1z\"></path>\n",
       "<path d=\"M23 18h-14c-0.552 0-1-0.448-1-1s0.448-1 1-1h14c0.552 0 1 0.448 1 1s-0.448 1-1 1z\"></path>\n",
       "</symbol>\n",
       "</defs>\n",
       "</svg>\n",
       "<style>/* CSS stylesheet for displaying xarray objects in jupyterlab.\n",
       " *\n",
       " */\n",
       "\n",
       ":root {\n",
       "  --xr-font-color0: var(--jp-content-font-color0, rgba(0, 0, 0, 1));\n",
       "  --xr-font-color2: var(--jp-content-font-color2, rgba(0, 0, 0, 0.54));\n",
       "  --xr-font-color3: var(--jp-content-font-color3, rgba(0, 0, 0, 0.38));\n",
       "  --xr-border-color: var(--jp-border-color2, #e0e0e0);\n",
       "  --xr-disabled-color: var(--jp-layout-color3, #bdbdbd);\n",
       "  --xr-background-color: var(--jp-layout-color0, white);\n",
       "  --xr-background-color-row-even: var(--jp-layout-color1, white);\n",
       "  --xr-background-color-row-odd: var(--jp-layout-color2, #eeeeee);\n",
       "}\n",
       "\n",
       ".xr-wrap {\n",
       "  min-width: 300px;\n",
       "  max-width: 700px;\n",
       "}\n",
       "\n",
       ".xr-header {\n",
       "  padding-top: 6px;\n",
       "  padding-bottom: 6px;\n",
       "  margin-bottom: 4px;\n",
       "  border-bottom: solid 1px var(--xr-border-color);\n",
       "}\n",
       "\n",
       ".xr-header > div,\n",
       ".xr-header > ul {\n",
       "  display: inline;\n",
       "  margin-top: 0;\n",
       "  margin-bottom: 0;\n",
       "}\n",
       "\n",
       ".xr-obj-type,\n",
       ".xr-array-name {\n",
       "  margin-left: 2px;\n",
       "  margin-right: 10px;\n",
       "}\n",
       "\n",
       ".xr-obj-type {\n",
       "  color: var(--xr-font-color2);\n",
       "}\n",
       "\n",
       ".xr-sections {\n",
       "  padding-left: 0 !important;\n",
       "  display: grid;\n",
       "  grid-template-columns: 150px auto auto 1fr 20px 20px;\n",
       "}\n",
       "\n",
       ".xr-section-item {\n",
       "  display: contents;\n",
       "}\n",
       "\n",
       ".xr-section-item input {\n",
       "  display: none;\n",
       "}\n",
       "\n",
       ".xr-section-item input + label {\n",
       "  color: var(--xr-disabled-color);\n",
       "}\n",
       "\n",
       ".xr-section-item input:enabled + label {\n",
       "  cursor: pointer;\n",
       "  color: var(--xr-font-color2);\n",
       "}\n",
       "\n",
       ".xr-section-item input:enabled + label:hover {\n",
       "  color: var(--xr-font-color0);\n",
       "}\n",
       "\n",
       ".xr-section-summary {\n",
       "  grid-column: 1;\n",
       "  color: var(--xr-font-color2);\n",
       "  font-weight: 500;\n",
       "}\n",
       "\n",
       ".xr-section-summary > span {\n",
       "  display: inline-block;\n",
       "  padding-left: 0.5em;\n",
       "}\n",
       "\n",
       ".xr-section-summary-in:disabled + label {\n",
       "  color: var(--xr-font-color2);\n",
       "}\n",
       "\n",
       ".xr-section-summary-in + label:before {\n",
       "  display: inline-block;\n",
       "  content: '►';\n",
       "  font-size: 11px;\n",
       "  width: 15px;\n",
       "  text-align: center;\n",
       "}\n",
       "\n",
       ".xr-section-summary-in:disabled + label:before {\n",
       "  color: var(--xr-disabled-color);\n",
       "}\n",
       "\n",
       ".xr-section-summary-in:checked + label:before {\n",
       "  content: '▼';\n",
       "}\n",
       "\n",
       ".xr-section-summary-in:checked + label > span {\n",
       "  display: none;\n",
       "}\n",
       "\n",
       ".xr-section-summary,\n",
       ".xr-section-inline-details {\n",
       "  padding-top: 4px;\n",
       "  padding-bottom: 4px;\n",
       "}\n",
       "\n",
       ".xr-section-inline-details {\n",
       "  grid-column: 2 / -1;\n",
       "}\n",
       "\n",
       ".xr-section-details {\n",
       "  display: none;\n",
       "  grid-column: 1 / -1;\n",
       "  margin-bottom: 5px;\n",
       "}\n",
       "\n",
       ".xr-section-summary-in:checked ~ .xr-section-details {\n",
       "  display: contents;\n",
       "}\n",
       "\n",
       ".xr-array-wrap {\n",
       "  grid-column: 1 / -1;\n",
       "  display: grid;\n",
       "  grid-template-columns: 20px auto;\n",
       "}\n",
       "\n",
       ".xr-array-wrap > label {\n",
       "  grid-column: 1;\n",
       "  vertical-align: top;\n",
       "}\n",
       "\n",
       ".xr-preview {\n",
       "  color: var(--xr-font-color3);\n",
       "}\n",
       "\n",
       ".xr-array-preview,\n",
       ".xr-array-data {\n",
       "  padding: 0 5px !important;\n",
       "  grid-column: 2;\n",
       "}\n",
       "\n",
       ".xr-array-data,\n",
       ".xr-array-in:checked ~ .xr-array-preview {\n",
       "  display: none;\n",
       "}\n",
       "\n",
       ".xr-array-in:checked ~ .xr-array-data,\n",
       ".xr-array-preview {\n",
       "  display: inline-block;\n",
       "}\n",
       "\n",
       ".xr-dim-list {\n",
       "  display: inline-block !important;\n",
       "  list-style: none;\n",
       "  padding: 0 !important;\n",
       "  margin: 0;\n",
       "}\n",
       "\n",
       ".xr-dim-list li {\n",
       "  display: inline-block;\n",
       "  padding: 0;\n",
       "  margin: 0;\n",
       "}\n",
       "\n",
       ".xr-dim-list:before {\n",
       "  content: '(';\n",
       "}\n",
       "\n",
       ".xr-dim-list:after {\n",
       "  content: ')';\n",
       "}\n",
       "\n",
       ".xr-dim-list li:not(:last-child):after {\n",
       "  content: ',';\n",
       "  padding-right: 5px;\n",
       "}\n",
       "\n",
       ".xr-has-index {\n",
       "  font-weight: bold;\n",
       "}\n",
       "\n",
       ".xr-var-list,\n",
       ".xr-var-item {\n",
       "  display: contents;\n",
       "}\n",
       "\n",
       ".xr-var-item > div,\n",
       ".xr-var-item label,\n",
       ".xr-var-item > .xr-var-name span {\n",
       "  background-color: var(--xr-background-color-row-even);\n",
       "  margin-bottom: 0;\n",
       "}\n",
       "\n",
       ".xr-var-item > .xr-var-name:hover span {\n",
       "  padding-right: 5px;\n",
       "}\n",
       "\n",
       ".xr-var-list > li:nth-child(odd) > div,\n",
       ".xr-var-list > li:nth-child(odd) > label,\n",
       ".xr-var-list > li:nth-child(odd) > .xr-var-name span {\n",
       "  background-color: var(--xr-background-color-row-odd);\n",
       "}\n",
       "\n",
       ".xr-var-name {\n",
       "  grid-column: 1;\n",
       "}\n",
       "\n",
       ".xr-var-dims {\n",
       "  grid-column: 2;\n",
       "}\n",
       "\n",
       ".xr-var-dtype {\n",
       "  grid-column: 3;\n",
       "  text-align: right;\n",
       "  color: var(--xr-font-color2);\n",
       "}\n",
       "\n",
       ".xr-var-preview {\n",
       "  grid-column: 4;\n",
       "}\n",
       "\n",
       ".xr-var-name,\n",
       ".xr-var-dims,\n",
       ".xr-var-dtype,\n",
       ".xr-preview,\n",
       ".xr-attrs dt {\n",
       "  white-space: nowrap;\n",
       "  overflow: hidden;\n",
       "  text-overflow: ellipsis;\n",
       "  padding-right: 10px;\n",
       "}\n",
       "\n",
       ".xr-var-name:hover,\n",
       ".xr-var-dims:hover,\n",
       ".xr-var-dtype:hover,\n",
       ".xr-attrs dt:hover {\n",
       "  overflow: visible;\n",
       "  width: auto;\n",
       "  z-index: 1;\n",
       "}\n",
       "\n",
       ".xr-var-attrs,\n",
       ".xr-var-data {\n",
       "  display: none;\n",
       "  background-color: var(--xr-background-color) !important;\n",
       "  padding-bottom: 5px !important;\n",
       "}\n",
       "\n",
       ".xr-var-attrs-in:checked ~ .xr-var-attrs,\n",
       ".xr-var-data-in:checked ~ .xr-var-data {\n",
       "  display: block;\n",
       "}\n",
       "\n",
       ".xr-var-data > table {\n",
       "  float: right;\n",
       "}\n",
       "\n",
       ".xr-var-name span,\n",
       ".xr-var-data,\n",
       ".xr-attrs {\n",
       "  padding-left: 25px !important;\n",
       "}\n",
       "\n",
       ".xr-attrs,\n",
       ".xr-var-attrs,\n",
       ".xr-var-data {\n",
       "  grid-column: 1 / -1;\n",
       "}\n",
       "\n",
       "dl.xr-attrs {\n",
       "  padding: 0;\n",
       "  margin: 0;\n",
       "  display: grid;\n",
       "  grid-template-columns: 125px auto;\n",
       "}\n",
       "\n",
       ".xr-attrs dt, dd {\n",
       "  padding: 0;\n",
       "  margin: 0;\n",
       "  float: left;\n",
       "  padding-right: 10px;\n",
       "  width: auto;\n",
       "}\n",
       "\n",
       ".xr-attrs dt {\n",
       "  font-weight: normal;\n",
       "  grid-column: 1;\n",
       "}\n",
       "\n",
       ".xr-attrs dt:hover span {\n",
       "  display: inline-block;\n",
       "  background: var(--xr-background-color);\n",
       "  padding-right: 10px;\n",
       "}\n",
       "\n",
       ".xr-attrs dd {\n",
       "  grid-column: 2;\n",
       "  white-space: pre-wrap;\n",
       "  word-break: break-all;\n",
       "}\n",
       "\n",
       ".xr-icon-database,\n",
       ".xr-icon-file-text2 {\n",
       "  display: inline-block;\n",
       "  vertical-align: middle;\n",
       "  width: 1em;\n",
       "  height: 1.5em !important;\n",
       "  stroke-width: 0;\n",
       "  stroke: currentColor;\n",
       "  fill: currentColor;\n",
       "}\n",
       "</style><div class='xr-wrap'><div class='xr-header'><div class='xr-obj-type'>xarray.DataArray</div><div class='xr-array-name'></div></div><ul class='xr-sections'><li class='xr-section-item'><div class='xr-array-wrap'><input id='section-8cf2f1a1-395f-4221-925d-557d41e751d0' class='xr-array-in' type='checkbox' ><label for='section-8cf2f1a1-395f-4221-925d-557d41e751d0' title='Show/hide data repr'><svg class='icon xr-icon-database'><use xlink:href='#icon-database'></use></svg></label><div class='xr-array-preview xr-preview'><span>&lt;Quantity(-6.825324471472166, &#x27;dimensionless&#x27;)&gt;</span></div><pre class='xr-array-data'>\\[-6.825324471472166\\ dimensionless\\]</pre></div></li><li class='xr-section-item'><input id='section-0e1d2fd8-db2b-4be1-9e5d-333570fcfe1d' class='xr-section-summary-in' type='checkbox'  checked><label for='section-0e1d2fd8-db2b-4be1-9e5d-333570fcfe1d' class='xr-section-summary' >Coordinates: <span>(4)</span></label><div class='xr-section-inline-details'></div><div class='xr-section-details'><ul class='xr-var-list'><li class='xr-var-item'><div class='xr-var-name'><span>t</span></div><div class='xr-var-dims'>()</div><div class='xr-var-dtype'>datetime64[ns]</div><div class='xr-var-preview xr-preview'>2018-10-23T12:00:00</div><input id='attrs-a456a889-480b-4bdc-9010-00870df39e06' class='xr-var-attrs-in' type='checkbox' ><label for='attrs-a456a889-480b-4bdc-9010-00870df39e06' title='Show/Hide attributes'><svg class='icon xr-icon-file-text2'><use xlink:href='#icon-file-text2'></use></svg></label><input id='data-a98eeed9-7334-4706-9615-1f9f8e214999' class='xr-var-data-in' type='checkbox'><label for='data-a98eeed9-7334-4706-9615-1f9f8e214999' title='Show/Hide data repr'><svg class='icon xr-icon-database'><use xlink:href='#icon-database'></use></svg></label><div class='xr-var-attrs'><dl class='xr-attrs'><dt><span>long_name :</span></dt><dd>t</dd><dt><span>time_origin :</span></dt><dd>21-OCT-2018:12:00:00</dd></dl></div><pre class='xr-var-data'>array(&#x27;2018-10-23T12:00:00.000000000&#x27;, dtype=&#x27;datetime64[ns]&#x27;)</pre></li><li class='xr-var-item'><div class='xr-var-name'><span>metpy_crs</span></div><div class='xr-var-dims'>()</div><div class='xr-var-dtype'>object</div><div class='xr-var-preview xr-preview'>Projection: latitude_longitude</div><input id='attrs-f957fa4e-efea-46e3-811e-e9f98da7751e' class='xr-var-attrs-in' type='checkbox' disabled><label for='attrs-f957fa4e-efea-46e3-811e-e9f98da7751e' title='Show/Hide attributes'><svg class='icon xr-icon-file-text2'><use xlink:href='#icon-file-text2'></use></svg></label><input id='data-948c9f89-ee74-4299-83f9-3d69e0005580' class='xr-var-data-in' type='checkbox'><label for='data-948c9f89-ee74-4299-83f9-3d69e0005580' title='Show/Hide data repr'><svg class='icon xr-icon-database'><use xlink:href='#icon-database'></use></svg></label><div class='xr-var-attrs'><dl class='xr-attrs'></dl></div><pre class='xr-var-data'>array(&lt;metpy.plots.mapping.CFProjection object at 0x7f58f74589d0&gt;,\n",
       "      dtype=object)</pre></li><li class='xr-var-item'><div class='xr-var-name'><span>hybrid_ht</span></div><div class='xr-var-dims'>()</div><div class='xr-var-dtype'>int32</div><div class='xr-var-preview xr-preview'>6196</div><input id='attrs-f248036c-0fe5-4466-ac8f-8ac3a1feeeef' class='xr-var-attrs-in' type='checkbox' disabled><label for='attrs-f248036c-0fe5-4466-ac8f-8ac3a1feeeef' title='Show/Hide attributes'><svg class='icon xr-icon-file-text2'><use xlink:href='#icon-file-text2'></use></svg></label><input id='data-3874549f-e6b3-46d8-ad6e-805e974d7ff7' class='xr-var-data-in' type='checkbox'><label for='data-3874549f-e6b3-46d8-ad6e-805e974d7ff7' title='Show/Hide data repr'><svg class='icon xr-icon-database'><use xlink:href='#icon-database'></use></svg></label><div class='xr-var-attrs'><dl class='xr-attrs'></dl></div><pre class='xr-var-data'>array(6196, dtype=int32)</pre></li><li class='xr-var-item'><div class='xr-var-name'><span>height_levels</span></div><div class='xr-var-dims'>()</div><div class='xr-var-dtype'>int32</div><div class='xr-var-preview xr-preview'>6196</div><input id='attrs-9d274b4e-2156-4010-beb5-6d1d59f57050' class='xr-var-attrs-in' type='checkbox' disabled><label for='attrs-9d274b4e-2156-4010-beb5-6d1d59f57050' title='Show/Hide attributes'><svg class='icon xr-icon-file-text2'><use xlink:href='#icon-file-text2'></use></svg></label><input id='data-432f124e-9b41-45a7-b852-2470deee4d3a' class='xr-var-data-in' type='checkbox'><label for='data-432f124e-9b41-45a7-b852-2470deee4d3a' title='Show/Hide data repr'><svg class='icon xr-icon-database'><use xlink:href='#icon-database'></use></svg></label><div class='xr-var-attrs'><dl class='xr-attrs'></dl></div><pre class='xr-var-data'>array(6196, dtype=int32)</pre></li></ul></div></li><li class='xr-section-item'><input id='section-407bd9c6-4fed-4c03-8917-d2503a842e32' class='xr-section-summary-in' type='checkbox' disabled ><label for='section-407bd9c6-4fed-4c03-8917-d2503a842e32' class='xr-section-summary'  title='Expand/collapse section'>Attributes: <span>(0)</span></label><div class='xr-section-inline-details'></div><div class='xr-section-details'><dl class='xr-attrs'></dl></div></li></ul></div></div>"
      ],
      "text/plain": [
       "<xarray.DataArray ()>\n",
       "<Quantity(-6.825324471472166, 'dimensionless')>\n",
       "Coordinates:\n",
       "    t              datetime64[ns] 2018-10-23T12:00:00\n",
       "    metpy_crs      object Projection: latitude_longitude\n",
       "    hybrid_ht      int32 6196\n",
       "    height_levels  int32 6196"
      ]
     },
     "execution_count": 43,
     "metadata": {},
     "output_type": "execute_result"
    }
   ],
   "source": [
    "upper_wave_phase_speed"
   ]
  },
  {
   "attachments": {},
   "cell_type": "markdown",
   "id": "ccba0cc7",
   "metadata": {},
   "source": [
    "## Lower wave phase speed calculation"
   ]
  },
  {
   "cell_type": "code",
   "execution_count": 17,
   "id": "b1bb7749",
   "metadata": {},
   "outputs": [],
   "source": [
    "th_lower = th_gl.sel(height_levels=1400, method=\"nearest\")"
   ]
  },
  {
   "cell_type": "code",
   "execution_count": 18,
   "id": "f6d09546",
   "metadata": {},
   "outputs": [],
   "source": [
    "gdata_pb_theta = input_data_pb.sel(longitude=slice(104.0, 115.0), latitude=slice(5.5, 9.0) )\n",
    "\n",
    "th_lower = gdata_pb_theta.theta.interp(hybrid_ht=ht_coords,\n",
    "                                     method=\"linear\").assign_coords(height_levels=(\"hybrid_ht\",\n",
    "                                    ht_coords)).swap_dims({\"hybrid_ht\":\"height_levels\"})"
   ]
  },
  {
   "cell_type": "code",
   "execution_count": 19,
   "id": "1a326680",
   "metadata": {},
   "outputs": [],
   "source": [
    "th_lower = th_lower.squeeze('t').sel(height_levels=1400, method=\"nearest\")"
   ]
  },
  {
   "cell_type": "code",
   "execution_count": 20,
   "id": "f0763f50",
   "metadata": {},
   "outputs": [],
   "source": [
    "th_ave_north = th_lower.sel(latitude=9.0, method=\"nearest\").mean()\n",
    "th_ave_south = th_lower.sel(latitude=5.5, method=\"nearest\").mean()"
   ]
  },
  {
   "cell_type": "code",
   "execution_count": 21,
   "id": "8ea75ebd",
   "metadata": {},
   "outputs": [],
   "source": [
    "th_dy = (th_ave_north - th_ave_south) / (3.5 * 111000)"
   ]
  },
  {
   "cell_type": "code",
   "execution_count": 22,
   "id": "e9ad25ee",
   "metadata": {},
   "outputs": [],
   "source": [
    "## Lower-level wave (theta) ### \n",
    "\n",
    "theta_wave_length = 8.0 * 111000\n",
    "theta_wave_number = (2 * np.pi) / theta_wave_length\n",
    "\n",
    "theta_smoothed = xr.DataArray(signal.convolve2d(th_lower, kernel_2d, boundary='symm', mode='same'))\n",
    "theta_mean = theta_smoothed.mean()\n",
    "theta_std = (theta_smoothed - theta_mean).std()\n",
    "\n",
    "v_lower = v_gl.sel(height_levels=1400, method=\"nearest\")\n",
    "v_smoothed = xr.DataArray(signal.convolve2d(v_lower, kernel_2d, boundary='symm', mode='same'))\n",
    "v_mean = v_smoothed.mean()\n",
    "v_std = (v_smoothed - v_mean).std()\n",
    "\n",
    "base_state_gradient = - ( (1 / theta_wave_number) * (th_dy / d_theta) )\n",
    "wave_amplitude = d_theta / theta_std\n",
    "frequency = theta_wave_number * v_std\n",
    "length_scale = 1 / theta_wave_number\n",
    "lower_wave_phase_speed = base_state_gradient * wave_amplitude * frequency * length_scale"
   ]
  },
  {
   "cell_type": "code",
   "execution_count": 23,
   "id": "6c390f2a",
   "metadata": {},
   "outputs": [
    {
     "data": {
      "text/plain": [
       "(<xarray.DataArray ()>\n",
       " <Quantity(-228414.16588231464, '1 / second')>\n",
       " Coordinates:\n",
       "     t              datetime64[ns] 2018-10-23T12:00:00\n",
       "     metpy_crs      object Projection: latitude_longitude\n",
       "     hybrid_ht_1    int32 6196\n",
       "     height_levels  int32 6196\n",
       "     hybrid_ht      int32 6196,\n",
       " <xarray.DataArray ()>\n",
       " array(-1.5810024)\n",
       " Coordinates:\n",
       "     t              datetime64[ns] 2018-10-23T12:00:00\n",
       "     metpy_crs      object Projection: latitude_longitude\n",
       "     hybrid_ht      int32 1396\n",
       "     height_levels  int32 1396)"
      ]
     },
     "execution_count": 23,
     "metadata": {},
     "output_type": "execute_result"
    }
   ],
   "source": [
    "upper_wave_phase_speed, lower_wave_phase_speed"
   ]
  },
  {
   "cell_type": "code",
   "execution_count": 24,
   "id": "0627f264",
   "metadata": {},
   "outputs": [],
   "source": [
    "# U1 = u_gl.sel(height_levels=1400, method=\"nearest\").mean()\n",
    "# U2 = u_gl.sel(height_levels=6000, method=\"nearest\").mean()"
   ]
  }
 ],
 "metadata": {
  "kernelspec": {
   "display_name": "shardy_env",
   "language": "python",
   "name": "python3"
  },
  "language_info": {
   "codemirror_mode": {
    "name": "ipython",
    "version": 3
   },
   "file_extension": ".py",
   "mimetype": "text/x-python",
   "name": "python",
   "nbconvert_exporter": "python",
   "pygments_lexer": "ipython3",
   "version": "3.7.6"
  },
  "vscode": {
   "interpreter": {
    "hash": "28fbcd74c9565cd7ca8c41a4b3cbb005854fa8f252725617f8dd647821f36998"
   }
  }
 },
 "nbformat": 4,
 "nbformat_minor": 5
}
