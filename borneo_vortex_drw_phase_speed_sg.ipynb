{
 "cells": [
  {
   "cell_type": "code",
   "execution_count": 1,
   "id": "9c6a326a",
   "metadata": {},
   "outputs": [],
   "source": [
    "import numpy as np\n",
    "import xarray as xr\n",
    "import pandas as pd\n",
    "\n",
    "import cartopy.crs as ccrs\n",
    "import matplotlib.pyplot as plt\n",
    "import metpy.calc as mpcalc\n",
    "from metpy.units import units \n",
    "from metpy.interpolate import cross_section\n",
    "from scipy import signal\n",
    "from diagnosticSGfunctions import gkern as create_gaussian_kernel\n",
    "\n",
    "import matplotlib"
   ]
  },
  {
   "cell_type": "code",
   "execution_count": 2,
   "id": "362b4d0e",
   "metadata": {},
   "outputs": [],
   "source": [
    "lon_start = 104.0\n",
    "lon_end = 115.0\n",
    "lat_start = 5.5\n",
    "lat_end = 7.0"
   ]
  },
  {
   "cell_type": "code",
   "execution_count": 3,
   "id": "ddc57db4",
   "metadata": {},
   "outputs": [],
   "source": [
    "time = int(48)-12\n",
    "gl_pe='/nobackup/earshar/borneo/case_20181021T1200Z_N768_v2/umglaa_pe{0:03d}.nc'.format(time)\n",
    "gl_pc='/nobackup/earshar/borneo/case_20181021T1200Z_N768_v2/umglaa_pc{0:03d}.nc'.format(time)\n",
    "gl_pb='/nobackup/earshar/borneo/case_20181021T1200Z_N768_v2/umglaa_pb{0:03d}.nc'.format(time)\n",
    "\n",
    "input_data_pe = xr.open_dataset(gl_pe).metpy.assign_crs(grid_mapping_name='latitude_longitude', \n",
    "                                                        earth_radius=6371229.0)\n",
    "input_data_pc = xr.open_dataset(gl_pc, drop_variables=['unspecified_5','unspecified_6',   # heating rate \n",
    "                                                       'unspecified_9','unspecified_10'])\n",
    "input_data_pc = input_data_pc.metpy.assign_crs(grid_mapping_name='latitude_longitude', \n",
    "                                               earth_radius=6371229.0)\n",
    "input_data_pb = xr.open_dataset(gl_pb).metpy.assign_crs(grid_mapping_name='latitude_longitude', \n",
    "                                                        earth_radius=6371229.0)"
   ]
  },
  {
   "cell_type": "code",
   "execution_count": 4,
   "id": "eebc4bf5",
   "metadata": {},
   "outputs": [],
   "source": [
    "gdata_pe=input_data_pe.sel(longitude=slice(lon_start, lon_end), latitude=slice(lat_start, lat_end),\n",
    "                                 longitude_1=slice(lon_start, lon_end), latitude_1=slice(lat_start, lat_end) )\n",
    "gdata_pb=input_data_pb.sel(longitude=slice(lon_start, lon_end), latitude=slice(lat_start, lat_end) )\n",
    "gdata_pc=input_data_pc.sel(longitude=slice(lon_start, lon_end), latitude=slice(lat_start, lat_end) )"
   ]
  },
  {
   "cell_type": "code",
   "execution_count": 5,
   "id": "f2348689",
   "metadata": {},
   "outputs": [],
   "source": [
    "heating_rate = 0\n",
    "vars_list = ['unspecified', 'unspecified_1', 'unspecified_2', 'unspecified_3',\n",
    "             'unspecified_4', 'unspecified_7','unspecified_8']\n",
    "for var in vars_list:\n",
    "    heating_rate = heating_rate + gdata_pc[var]"
   ]
  },
  {
   "cell_type": "code",
   "execution_count": 6,
   "id": "9a0d02a7",
   "metadata": {},
   "outputs": [],
   "source": [
    "ht_coords = gdata_pe.u['hybrid_ht_1'].data.astype('int32')\n",
    "\n",
    "u_gl = gdata_pe.u.interp(longitude_1=gdata_pe.v[\"longitude\"],\n",
    "                         hybrid_ht_1=ht_coords,\n",
    "                         method=\"linear\").assign_coords(height_levels=(\"hybrid_ht_1\",\n",
    "                        ht_coords)).swap_dims({\"hybrid_ht_1\":\n",
    "                        \"height_levels\"})\n",
    "v_gl = gdata_pe.v.interp(latitude_1=gdata_pe.u[\"latitude\"],\n",
    "                         hybrid_ht_1=ht_coords,\n",
    "                         method=\"linear\").assign_coords(height_levels=(\"hybrid_ht_1\",\n",
    "                        ht_coords)).swap_dims({\"hybrid_ht_1\":\n",
    "                                               \"height_levels\"})\n",
    "pv_gl = gdata_pe.field83.interp(hybrid_ht=ht_coords,\n",
    "                                method=\"linear\").assign_coords(height_levels=(\"hybrid_ht\",\n",
    "                                ht_coords)).swap_dims({\"hybrid_ht\":\n",
    "                                                       \"height_levels\"})\n",
    "w_gl  = gdata_pe.dz_dt.interp(hybrid_ht=ht_coords,\n",
    "                              method=\"linear\").assign_coords(height_levels=(\"hybrid_ht\",\n",
    "                            ht_coords)).swap_dims({\"hybrid_ht\":\n",
    "                                                   \"height_levels\"})\n",
    "\n",
    "q_gl  = gdata_pb.q.interp(hybrid_ht=ht_coords,\n",
    "                          method=\"linear\").assign_coords(height_levels=(\"hybrid_ht\",\n",
    "                            ht_coords)).swap_dims({\"hybrid_ht\":\n",
    "                                                   \"height_levels\"})\n",
    "th_gl = gdata_pb.theta.interp(hybrid_ht=ht_coords,\n",
    "                              method=\"linear\").assign_coords(height_levels=(\"hybrid_ht\",\n",
    "                            ht_coords)).swap_dims({\"hybrid_ht\":\n",
    "                                                   \"height_levels\"})\n",
    "rho_gl = gdata_pb.field27.interp(hybrid_ht_1=ht_coords,\n",
    "                                 method=\"linear\").assign_coords(height_levels=(\"hybrid_ht_1\",\n",
    "                                ht_coords)).swap_dims({\"hybrid_ht_1\":\"height_levels\"})\n",
    "heating_rate = heating_rate.interp(hybrid_ht=ht_coords,\n",
    "                                   method=\"linear\").assign_coords(height_levels=(\"hybrid_ht\",\n",
    "                                ht_coords)).swap_dims({\"hybrid_ht\":\"height_levels\"})\n",
    "exner_func = gdata_pb.field7.interp(hybrid_ht_1=ht_coords,\n",
    "                                 method=\"linear\").assign_coords(height_levels=(\"hybrid_ht_1\",\n",
    "                                ht_coords)).swap_dims({\"hybrid_ht_1\":\"height_levels\"})"
   ]
  },
  {
   "cell_type": "code",
   "execution_count": 7,
   "id": "56afb627",
   "metadata": {},
   "outputs": [],
   "source": [
    "u_gl = u_gl.squeeze('t').sel(latitude=slice(lat_start,lat_end)).sel(longitude=slice(lon_start,lon_end))\n",
    "v_gl = v_gl.squeeze('t').sel(latitude=slice(lat_start,lat_end)).sel(longitude=slice(lon_start,lon_end))\n",
    "w_gl = w_gl.squeeze('t').sel(latitude=slice(lat_start,lat_end)).sel(longitude=slice(lon_start,lon_end))\n",
    "\n",
    "th_gl = th_gl.squeeze('t').sel(latitude=slice(lat_start,lat_end)).sel(longitude=slice(lon_start,lon_end))\n",
    "q_gl = q_gl.squeeze('t').sel(latitude=slice(lat_start,lat_end)).sel(longitude=slice(lon_start,lon_end))\n",
    "rho_gl = rho_gl.squeeze('t').sel(latitude=slice(lat_start,lat_end)).sel(longitude=slice(lon_start,lon_end))\n",
    "\n",
    "vort_gl = mpcalc.vorticity(u_gl, v_gl, dx=None, dy=None)\n",
    "abs_vort_gl = mpcalc.absolute_vorticity(u_gl, v_gl, dx=None, dy=None)\n",
    "\n",
    "vort_gl = vort_gl.sel(latitude=slice(lat_start,lat_end)).sel(longitude=slice(lon_start,lon_end))\n",
    "abs_vort_gl = abs_vort_gl.sel(latitude=slice(lat_start,lat_end)).sel(longitude=slice(lon_start,lon_end))\n",
    "heating_rate = heating_rate.squeeze('t').sel(latitude=slice(lat_start,lat_end)).sel(longitude=slice(lon_start,lon_end)) / 3600.\n",
    "exner_func = exner_func.squeeze('t').sel(latitude=slice(lat_start,lat_end)).sel(longitude=slice(lon_start,lon_end))"
   ]
  },
  {
   "attachments": {},
   "cell_type": "markdown",
   "id": "3ceab9ae",
   "metadata": {},
   "source": [
    "## Upper wave phase speed calculation"
   ]
  },
  {
   "attachments": {},
   "cell_type": "markdown",
   "id": "cd4f4230",
   "metadata": {},
   "source": [
    "### Calculate first term in Eq. 6 (absolute vorticity)"
   ]
  },
  {
   "cell_type": "code",
   "execution_count": 9,
   "id": "ca610f1d",
   "metadata": {},
   "outputs": [],
   "source": [
    "rho_upper = rho_gl.sel(height_levels=slice(8000,10000)).mean(dim=['height_levels'])\n",
    "rho_lower = rho_gl.sel(height_levels=slice(2000,4000)).mean(dim=['height_levels'])\n",
    "rho_ave = ( (rho_upper + rho_lower) / 2).mean() \n",
    "\n",
    "q_ave = q_gl.sel(height_levels=6000, method=\"nearest\").mean()\n",
    "abs_vort = abs_vort_gl.sel(height_levels=6000, method=\"nearest\").mean()\n",
    "\n",
    "th_upper = th_gl.sel(height_levels=slice(8000,10000)).mean(dim=['height_levels'])\n",
    "th_lower = th_gl.sel(height_levels=slice(2000,4000)).mean(dim=['height_levels'])\n",
    "d_theta  = (th_upper - th_lower).mean()\n",
    "th_ref   = 300.0\n",
    "dz       = 6000.0\n",
    "\n",
    "# term_1 = (9.81 * d_theta / (rho_ave * q_ave * th_ref * dz) )\n",
    "term_1 = (abs_vort * d_theta / (rho_ave * dz) ) # Current value = 3.52 x 10-7"
   ]
  },
  {
   "attachments": {},
   "cell_type": "markdown",
   "id": "16669114",
   "metadata": {},
   "source": [
    "### Calculate second term in Eq. 6 (moist stability)"
   ]
  },
  {
   "cell_type": "code",
   "execution_count": 10,
   "id": "6997920a",
   "metadata": {},
   "outputs": [],
   "source": [
    "# calculate moist stability\n",
    "th_dz = mpcalc.first_derivative(th_gl, axis=0)\n",
    "th_dz = th_dz * (9.81 / th_ref)\n",
    "moist_stability = q_gl * th_dz\n",
    "\n",
    "moist_stability_upper = moist_stability.sel(height_levels=slice(8000,\n",
    "                            10000)).mean(dim=['height_levels']).mean()\n",
    "moist_stability_lower = moist_stability.sel(height_levels=slice(2000,\n",
    "                            4000)).mean(dim=['height_levels']).mean()\n",
    "moist_stability_interface = moist_stability.sel(height_levels=6000, method='nearest').mean()\n",
    "\n",
    "term_2 = (moist_stability_upper - moist_stability_lower) / moist_stability_interface # Current value = -2.49\n",
    "\n",
    "moist_stratification_factor = term_1 * term_2 # Current value = -8.77 x 10-7 (seems much smaller than expected)"
   ]
  },
  {
   "attachments": {},
   "cell_type": "markdown",
   "id": "09a1fcdc",
   "metadata": {},
   "source": [
    "### Calculate third term in Eq. 6 (diabatic heating)"
   ]
  },
  {
   "cell_type": "code",
   "execution_count": 16,
   "id": "4551a4e3",
   "metadata": {},
   "outputs": [],
   "source": [
    "latitude = th_gl.latitude * (np.pi / 180.)\n",
    "f0 = 1.4584E-4 * np.sin(latitude)\n",
    "exner_func_6km = exner_func.sel(height_levels=6000, method=\"nearest\").mean()\n",
    "heating_rate_6km = (heating_rate.sel(height_levels=6000, method=\"nearest\"))\n",
    "\n",
    "# new method to calculate amplitude (smooth field, and calculate standard deviation)\n",
    "kernel_2d = create_gaussian_kernel(3, 1.0)\n",
    "heating_rate_smoothed = xr.DataArray(signal.convolve2d(heating_rate_6km, kernel_2d, boundary='symm', mode='same'))\n",
    "heating_rate_mean = heating_rate_smoothed.mean()\n",
    "heating_rate_std = (heating_rate_smoothed - heating_rate_mean).std()\n",
    "heating_rate_amplitude = (heating_rate_6km.max() - heating_rate_6km.min()) / 2\n",
    "\n",
    "rel_vort_6km = vort_gl.sel(height_levels=6000, method=\"nearest\")\n",
    "rel_vort_smoothed = xr.DataArray(signal.convolve2d(rel_vort_6km, kernel_2d, boundary='symm', mode='same'))\n",
    "rel_vort_mean = rel_vort_smoothed.mean()\n",
    "rel_vort_std = (rel_vort_smoothed - rel_vort_mean).std()\n",
    "rel_vort_amplitude = (rel_vort_6km.max() - rel_vort_6km.min()) / 2\n",
    "\n",
    "pv_wave_length = 8.0 * 111000 \n",
    "pv_wave_number = (2 * np.pi) / pv_wave_length\n",
    "\n",
    "term_3a = 1 / pv_wave_number\n",
    "term_3b = heating_rate_std / d_theta \n",
    "\n",
    "term_3c = f0 / rel_vort_std ### --> needs to change (use RHS of Eq. 1 --> expression for Ertel PV) ###\n",
    "\n",
    "term_3 = (term_3a * term_3b * term_3c).mean()\n",
    "\n",
    "upper_wave_phase_speed = moist_stratification_factor * term_3"
   ]
  },
  {
   "attachments": {},
   "cell_type": "markdown",
   "id": "ccba0cc7",
   "metadata": {},
   "source": [
    "## Lower wave phase speed calculation"
   ]
  },
  {
   "cell_type": "code",
   "execution_count": 99,
   "id": "b1bb7749",
   "metadata": {},
   "outputs": [],
   "source": [
    "th_lower = th_gl.sel(height_levels=1400, method=\"nearest\")"
   ]
  },
  {
   "cell_type": "code",
   "execution_count": 100,
   "id": "f6d09546",
   "metadata": {},
   "outputs": [],
   "source": [
    "gdata_pb_theta = input_data_pb.sel(longitude=slice(104.0, 115.0), latitude=slice(5.5, 9.0) )\n",
    "\n",
    "th_lower = gdata_pb_theta.theta.interp(hybrid_ht=ht_coords,\n",
    "                                     method=\"linear\").assign_coords(height_levels=(\"hybrid_ht\",\n",
    "                                    ht_coords)).swap_dims({\"hybrid_ht\":\"height_levels\"})"
   ]
  },
  {
   "cell_type": "code",
   "execution_count": 101,
   "id": "1a326680",
   "metadata": {},
   "outputs": [],
   "source": [
    "th_lower = th_lower.squeeze('t').sel(height_levels=1400, method=\"nearest\")"
   ]
  },
  {
   "cell_type": "code",
   "execution_count": 102,
   "id": "f0763f50",
   "metadata": {},
   "outputs": [],
   "source": [
    "th_ave_north = th_lower.sel(latitude=9.0, method=\"nearest\").mean()\n",
    "th_ave_south = th_lower.sel(latitude=5.5, method=\"nearest\").mean()"
   ]
  },
  {
   "cell_type": "code",
   "execution_count": 103,
   "id": "8ea75ebd",
   "metadata": {},
   "outputs": [],
   "source": [
    "th_dy = (th_ave_north - th_ave_south) / (3.5 * 111000)"
   ]
  },
  {
   "cell_type": "code",
   "execution_count": 104,
   "id": "e9ad25ee",
   "metadata": {},
   "outputs": [],
   "source": [
    "## Lower-level wave (theta) ### \n",
    "\n",
    "theta_wave_length = 8.0 * 111000\n",
    "theta_wave_number = (2 * np.pi) / theta_wave_length\n",
    "\n",
    "theta_smoothed = xr.DataArray(signal.convolve2d(th_lower, kernel_2d, boundary='symm', mode='same'))\n",
    "theta_mean = theta_smoothed.mean()\n",
    "theta_std = (theta_smoothed - theta_mean).std()\n",
    "\n",
    "v_lower = v_gl.sel(height_levels=1400, method=\"nearest\")\n",
    "v_smoothed = xr.DataArray(signal.convolve2d(v_lower, kernel_2d, boundary='symm', mode='same'))\n",
    "v_mean = v_smoothed.mean()\n",
    "v_std = (v_smoothed - v_mean).std()\n",
    "\n",
    "base_state_gradient = - ( (1 / theta_wave_number) * (th_dy / d_theta) )\n",
    "wave_amplitude = d_theta / theta_std\n",
    "frequency = theta_wave_number * v_std\n",
    "length_scale = 1 / theta_wave_number\n",
    "lower_wave_phase_speed = base_state_gradient * wave_amplitude * frequency * length_scale"
   ]
  },
  {
   "cell_type": "code",
   "execution_count": 105,
   "id": "6c390f2a",
   "metadata": {},
   "outputs": [
    {
     "data": {
      "text/plain": [
       "(<xarray.DataArray ()>\n",
       " <Quantity(-0.6371956549743868, '1 / kelvin')>\n",
       " Coordinates:\n",
       "     t              datetime64[ns] 2018-10-22T12:00:00\n",
       "     metpy_crs      object Projection: latitude_longitude\n",
       "     hybrid_ht      int32 6196\n",
       "     height_levels  int32 6196,\n",
       " <xarray.DataArray ()>\n",
       " array(-0.53889322)\n",
       " Coordinates:\n",
       "     t              datetime64[ns] 2018-10-22T12:00:00\n",
       "     metpy_crs      object Projection: latitude_longitude\n",
       "     hybrid_ht      int32 1396\n",
       "     height_levels  int32 1396)"
      ]
     },
     "execution_count": 105,
     "metadata": {},
     "output_type": "execute_result"
    }
   ],
   "source": [
    "upper_wave_phase_speed, lower_wave_phase_speed"
   ]
  },
  {
   "cell_type": "code",
   "execution_count": 26,
   "id": "0627f264",
   "metadata": {},
   "outputs": [],
   "source": [
    "# U1 = u_gl.sel(height_levels=1400, method=\"nearest\").mean()\n",
    "# U2 = u_gl.sel(height_levels=6000, method=\"nearest\").mean()"
   ]
  }
 ],
 "metadata": {
  "kernelspec": {
   "display_name": "shardy_env",
   "language": "python",
   "name": "python3"
  },
  "language_info": {
   "codemirror_mode": {
    "name": "ipython",
    "version": 3
   },
   "file_extension": ".py",
   "mimetype": "text/x-python",
   "name": "python",
   "nbconvert_exporter": "python",
   "pygments_lexer": "ipython3",
   "version": "3.7.6"
  },
  "vscode": {
   "interpreter": {
    "hash": "28fbcd74c9565cd7ca8c41a4b3cbb005854fa8f252725617f8dd647821f36998"
   }
  }
 },
 "nbformat": 4,
 "nbformat_minor": 5
}
