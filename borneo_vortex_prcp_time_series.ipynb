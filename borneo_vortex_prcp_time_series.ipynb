{
 "cells": [
  {
   "cell_type": "code",
   "execution_count": 1,
   "id": "9c6a326a",
   "metadata": {},
   "outputs": [],
   "source": [
    "import numpy as np\n",
    "import xarray as xr\n",
    "import pandas as pd\n",
    "import iris\n",
    "\n",
    "import cartopy.crs as ccrs\n",
    "import cartopy.feature as cfeature\n",
    "import matplotlib.pyplot as plt\n",
    "from IPython.display import Markdown as md\n",
    "from plot_4p4 import extract_vortex_info, plot_t_bright_himawari\n",
    "from func_4p4 import open_file\n",
    "\n",
    "import matplotlib\n",
    "%matplotlib inline\n",
    "from matplotlib.patches import Rectangle\n",
    "import cmocean"
   ]
  },
  {
   "cell_type": "code",
   "execution_count": 2,
   "id": "362b4d0e",
   "metadata": {},
   "outputs": [],
   "source": [
    "# plot characteristics \n",
    "lon_start = 93.0 # 88.0\n",
    "lon_end = 130.0 # 130.0\n",
    "lat_start = -4.0 # -6.0\n",
    "lat_end = 20.0 # 23.0\n",
    "\n",
    "bounds = [lon_start, lon_end, lat_start, lat_end]"
   ]
  },
  {
   "cell_type": "code",
   "execution_count": 3,
   "id": "1d00ec27",
   "metadata": {},
   "outputs": [],
   "source": [
    "# read in 4p4 MetUM data \n",
    "data_path_4p4 = '/nobackup/earshar/borneo/20181021T1200Z_SEA4_km4p4_ra1tld_pverb.pp'\n",
    "# data_path_4p4 = '{0}_pverb.pp'.format(data_path_4p4)\n",
    "pcubes = iris.load(data_path_4p4)\n",
    "prcp_4p4_data = xr.DataArray.from_iris(pcubes.extract('stratiform_rainfall_flux')[1])"
   ]
  },
  {
   "cell_type": "code",
   "execution_count": 4,
   "id": "82b100dc",
   "metadata": {},
   "outputs": [],
   "source": [
    "# subset and extract 12-h accumulated precipitation\n",
    "prcp_4p4_data = prcp_4p4_data.sel(longitude=slice(bounds[0], bounds[1]), latitude=slice(bounds[2], bounds[3]))\n",
    "prcp_4p4_data = prcp_4p4_data * 3600. "
   ]
  },
  {
   "cell_type": "code",
   "execution_count": 5,
   "id": "f0672600",
   "metadata": {},
   "outputs": [],
   "source": [
    "# calculate 12-h accumulated precipitation from 1-h precipitation amounts \n",
    "prcp_4p4_data = prcp_4p4_data.resample(time=\"12H\").sum().sel(time = slice('2018-10-21T12', '2018-10-26T12') )"
   ]
  },
  {
   "cell_type": "code",
   "execution_count": 6,
   "id": "df10dd5e",
   "metadata": {},
   "outputs": [],
   "source": [
    "# read in GPM data \n",
    "gpm_path = '/nobackup/earshar/borneo/GPMHH_201810.nc'\n",
    "gpm_data = xr.open_dataset(gpm_path).sel(lon=slice(bounds[0], bounds[1]), lat=slice(bounds[2], bounds[3]))\n",
    "prcp_gpm = gpm_data.precipitationCal"
   ]
  },
  {
   "cell_type": "code",
   "execution_count": 7,
   "id": "1397024c",
   "metadata": {},
   "outputs": [],
   "source": [
    "# divide by 2 (each 30-min interval contains precip rate in mm/hr)\n",
    "prcp_gpm = prcp_gpm / 2"
   ]
  },
  {
   "cell_type": "code",
   "execution_count": 8,
   "id": "71dc21d0",
   "metadata": {},
   "outputs": [],
   "source": [
    "# resample GPM data to calculate 12-h accumulated precipitation\n",
    "prcp_gpm_12h = prcp_gpm.sel(time=slice('2018-10-21T12', '2018-10-26T12')).resample(time=\"12H\").sum()"
   ]
  },
  {
   "cell_type": "code",
   "execution_count": 9,
   "id": "fb8447e1",
   "metadata": {},
   "outputs": [],
   "source": [
    "# set up dummy array to hold N768 MetUM data  \n",
    "Tp = [24, 36, 48, 60, 72, 84, 96, 108, 120]\n",
    "prcp_n768_dims = [len(Tp), prcp_4p4_data.latitude.shape[0], prcp_4p4_data.longitude.shape[0]]\n",
    "\n",
    "prcp_n768_data = xr.DataArray(np.ones(prcp_n768_dims),\n",
    "                        dims=[\"time\", \"latitude\", \"longitude\"],\n",
    "                        coords={\n",
    "                            \"time\": prcp_gpm_12h.time[1:-1],\n",
    "                            \"latitude\": prcp_4p4_data.latitude,\n",
    "                            \"longitude\": prcp_4p4_data.longitude,\n",
    "                        },\n",
    "                        )"
   ]
  },
  {
   "cell_type": "code",
   "execution_count": 10,
   "id": "dba8ab8d",
   "metadata": {},
   "outputs": [],
   "source": [
    "# fill dummy array with data by looping over input files \n",
    "for i, t in enumerate(Tp):\n",
    "    metum_n768_path = '/nobackup/earshar/borneo/case_20181021T1200Z_N768_v2/umglaa_pa{0:03d}.nc'.format(t - 12)\n",
    "    data_n768 = xr.open_dataset(metum_n768_path)\n",
    "    data_n768 = data_n768[\"tot_precip\"].squeeze('t_1').squeeze('surface').sel(longitude=slice(bounds[0], bounds[1]),\n",
    "                                                                              latitude=slice(bounds[2], bounds[3]))\n",
    "\n",
    "    # interpolate N768 MetUM data onto 4p4 MetUM grid\n",
    "    prcp_n768_data[i, :, :] = data_n768.interp(longitude=prcp_4p4_data[\"longitude\"],\n",
    "                                               latitude=prcp_4p4_data[\"latitude\"],\n",
    "                                               method=\"linear\")"
   ]
  },
  {
   "cell_type": "code",
   "execution_count": 11,
   "id": "55e652b0",
   "metadata": {},
   "outputs": [],
   "source": [
    "# also interpolate GPM data onto 4p4 MetUM grid\n",
    "prcp_gpm_12h = prcp_gpm_12h.interp(lon=prcp_4p4_data[\"longitude\"],\n",
    "                                    lat=prcp_4p4_data[\"latitude\"],\n",
    "                                    method=\"linear\")"
   ]
  },
  {
   "cell_type": "code",
   "execution_count": 12,
   "id": "d487f93c",
   "metadata": {},
   "outputs": [],
   "source": [
    "# align all three arrays so that time dimension is identical\n",
    "prcp_gpm_12h = prcp_gpm_12h.sel(time=slice('2018-10-22T00', '2018-10-26T00'))\n",
    "prcp_4p4_data = prcp_4p4_data.sel(time=slice('2018-10-22T00', '2018-10-26T00'))\n",
    "prcp_n768_data = prcp_n768_data # no change "
   ]
  },
  {
   "cell_type": "code",
   "execution_count": 13,
   "id": "bbd9789d",
   "metadata": {},
   "outputs": [],
   "source": [
    "# transpose GPM data \n",
    "prcp_gpm_data = prcp_gpm_12h.transpose('time','latitude','longitude')"
   ]
  },
  {
   "cell_type": "code",
   "execution_count": 14,
   "id": "be97c8d9",
   "metadata": {},
   "outputs": [],
   "source": [
    "# vortex track + intensity data \n",
    "vortex_path = '/nobackup/earshar/borneo/bv_2018102112_track.csv'\n",
    "bv_lat, bv_lon, bv_time = extract_vortex_info(vortex_path)"
   ]
  },
  {
   "cell_type": "code",
   "execution_count": 15,
   "id": "1261ba34",
   "metadata": {},
   "outputs": [],
   "source": [
    "# calculate accumulated, area-averaged precipitation along the vortex track \n",
    "acc_prcp_gpm = xr.DataArray(np.ones(prcp_gpm_data.time.shape[0]),\n",
    "                            dims=[\"time\"],\n",
    "                            coords={\n",
    "                            \"time\": prcp_gpm_data.time\n",
    "                            },\n",
    "                        )"
   ]
  },
  {
   "cell_type": "code",
   "execution_count": 16,
   "id": "f918b5ac",
   "metadata": {},
   "outputs": [],
   "source": [
    "# repeat for the other datasets\n",
    "acc_prcp_4p4 = xr.DataArray(np.ones(prcp_4p4_data.time.shape[0]),\n",
    "                            dims=[\"time\"],\n",
    "                            coords={\n",
    "                            \"time\": prcp_4p4_data.time\n",
    "                            },\n",
    "                        )\n",
    "\n",
    "acc_prcp_n768 = xr.DataArray(np.ones(prcp_n768_data.time.shape[0]),\n",
    "                            dims=[\"time\"],\n",
    "                            coords={\n",
    "                            \"time\": prcp_n768_data.time\n",
    "                            },\n",
    "                        )"
   ]
  },
  {
   "cell_type": "code",
   "execution_count": 17,
   "id": "59705058",
   "metadata": {},
   "outputs": [],
   "source": [
    "# set indices in vortex array for 12-h intervals \n",
    "xi = [2,4,6,8,10,12,14,16,18]"
   ]
  },
  {
   "cell_type": "code",
   "execution_count": 41,
   "id": "79e20adc",
   "metadata": {},
   "outputs": [],
   "source": [
    "# set radius for area-averaged precipitation calculation \n",
    "r0 = 2.0"
   ]
  },
  {
   "cell_type": "code",
   "execution_count": 42,
   "id": "9631ff58",
   "metadata": {},
   "outputs": [],
   "source": [
    "for i, it in enumerate(np.arange(0,9)):\n",
    "    xii = xi[i]\n",
    "\n",
    "    # calculate area-averaged, accumulated precipitation \n",
    "    pr_gpm = prcp_gpm_data[it,:,:]\n",
    "    pr_4p4 = prcp_4p4_data[it,:,:]\n",
    "    pr_n768 = prcp_n768_data[it,:,:]\n",
    "\n",
    "    pr_gpm = pr_gpm.loc[bv_lat[xii]-r0:bv_lat[xii]+r0,\n",
    "                        bv_lon[xii]-r0:bv_lon[xii]+r0].mean()\n",
    "    pr_4p4 = pr_4p4.loc[bv_lat[xii]-r0:bv_lat[xii]+r0,\n",
    "                        bv_lon[xii]-r0:bv_lon[xii]+r0].mean()\n",
    "    pr_n768 = pr_n768.loc[bv_lat[xii]-r0:bv_lat[xii]+r0,\n",
    "                          bv_lon[xii]-r0:bv_lon[xii]+r0].mean()\n",
    "\n",
    "    acc_prcp_gpm[i] = pr_gpm.data\n",
    "    acc_prcp_4p4[i] = pr_4p4.data\n",
    "    acc_prcp_n768[i] = pr_n768.data"
   ]
  },
  {
   "cell_type": "code",
   "execution_count": 43,
   "id": "4c8801fb",
   "metadata": {},
   "outputs": [
    {
     "data": {
      "text/plain": [
       "<matplotlib.legend.Legend at 0x7f82ea768ad0>"
      ]
     },
     "execution_count": 43,
     "metadata": {},
     "output_type": "execute_result"
    },
    {
     "data": {
      "image/png": "[encoded data removed]",
      "text/plain": [
       "<Figure size 720x432 with 1 Axes>"
      ]
     },
     "metadata": {
      "needs_background": "light"
     },
     "output_type": "display_data"
    }
   ],
   "source": [
    "# produce time-series plot \n",
    "fig, ax = plt.subplots(figsize=(10, 6))\n",
    "ax.plot(bv_time, np.zeros(21), color='k', alpha=0.0)\n",
    "ax.plot(bv_time[2:19:2], acc_prcp_4p4, color='k', label='4.4 km MetUM')\n",
    "ax.plot(bv_time[2:19:2], acc_prcp_n768, color='b', label='Global MetUM')\n",
    "ax.plot(bv_time[2:19:2], acc_prcp_gpm, color='r', label='GPM-IMERG')\n",
    "ax.set(xlabel='Time', ylabel='Accumulated rainfall (mm)',\n",
    "        title='Accumulated rainfall following the vortex')\n",
    "ax.grid(True)\n",
    "ax.legend(loc='upper right')"
   ]
  },
  {
   "cell_type": "code",
   "execution_count": 44,
   "id": "60845b50",
   "metadata": {},
   "outputs": [],
   "source": [
    "fig.savefig(f'fig5b_new_{r0}deg.png')"
   ]
  }
 ],
 "metadata": {
  "interpreter": {
   "hash": "28fbcd74c9565cd7ca8c41a4b3cbb005854fa8f252725617f8dd647821f36998"
  },
  "kernelspec": {
   "display_name": "Python 3.7.6 ('shardy_env')",
   "language": "python",
   "name": "python3"
  },
  "language_info": {
   "codemirror_mode": {
    "name": "ipython",
    "version": 3
   },
   "file_extension": ".py",
   "mimetype": "text/x-python",
   "name": "python",
   "nbconvert_exporter": "python",
   "pygments_lexer": "ipython3",
   "version": "3.7.6"
  }
 },
 "nbformat": 4,
 "nbformat_minor": 5
}
